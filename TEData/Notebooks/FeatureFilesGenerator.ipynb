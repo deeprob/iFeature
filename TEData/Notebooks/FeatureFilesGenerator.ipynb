{
 "cells": [
  {
   "cell_type": "code",
   "execution_count": 1,
   "metadata": {},
   "outputs": [
    {
     "name": "stdout",
     "output_type": "stream",
     "text": [
      "usage: it's usage tip.\r\n",
      "\r\n",
      "Generating various numerical representation schemes for protein sequences\r\n",
      "\r\n",
      "optional arguments:\r\n",
      "  -h, --help            show this help message and exit\r\n",
      "  --file FILE           input fasta file\r\n",
      "  --type {AAC,EAAC,CKSAAP,DPC,DDE,TPC,BINARY,GAAC,EGAAC,CKSAAGP,GDPC,GTPC,AAINDEX,ZSCALE,BLOSUM62,NMBroto,Moran,Geary,CTDC,CTDT,CTDD,CTriad,KSCTriad,SOCNumber,QSOrder,PAAC,APAAC,KNNprotein,KNNpeptide,PSSM,SSEC,SSEB,Disorder,DisorderC,DisorderB,ASA,TA}\r\n",
      "                        the encoding type\r\n",
      "  --path FILEPATH       data file path used for 'PSSM', 'SSEB(C)',\r\n",
      "                        'Disorder(BC)', 'ASA' and 'TA' encodings\r\n",
      "  --train TRAINFILE     training file in fasta format only used for\r\n",
      "                        'KNNprotein' or 'KNNpeptide' encodings\r\n",
      "  --label LABELFILE     sample label file only used for 'KNNprotein' or\r\n",
      "                        'KNNpeptide' encodings\r\n",
      "  --order {alphabetically,polarity,sideChainVolume,userDefined}\r\n",
      "                        output order for of Amino Acid Composition (i.e. AAC,\r\n",
      "                        EAAC, CKSAAP, DPC, DDE, TPC) descriptors\r\n",
      "  --userDefinedOrder USERDEFINEDORDER\r\n",
      "                        user defined output order for of Amino Acid\r\n",
      "                        Composition (i.e. AAC, EAAC, CKSAAP, DPC, DDE, TPC)\r\n",
      "                        descriptors\r\n",
      "  --out OUTFILE         the generated descriptor file\r\n"
     ]
    }
   ],
   "source": [
    "!python ../../iFeature.py --help"
   ]
  },
  {
   "cell_type": "markdown",
   "metadata": {},
   "source": [
    "# AAC"
   ]
  },
  {
   "cell_type": "code",
   "execution_count": 2,
   "metadata": {},
   "outputs": [
    {
     "name": "stdout",
     "output_type": "stream",
     "text": [
      "Descriptor type: AAC\r\n"
     ]
    }
   ],
   "source": [
    "!python ../../iFeature.py --file ../New-Enzyme-Fasta.fa --type AAC --out ../FeatureFiles/AAC.tsv"
   ]
  },
  {
   "cell_type": "markdown",
   "metadata": {},
   "source": [
    "# CKSAAP"
   ]
  },
  {
   "cell_type": "code",
   "execution_count": 3,
   "metadata": {},
   "outputs": [
    {
     "name": "stdout",
     "output_type": "stream",
     "text": [
      "Descriptor type: CKSAAP\r\n"
     ]
    }
   ],
   "source": [
    "!python ../../iFeature.py --file ../New-Enzyme-Fasta.fa --type CKSAAP --out ../FeatureFiles/CKSAAP.tsv"
   ]
  },
  {
   "cell_type": "markdown",
   "metadata": {},
   "source": [
    "# TPC"
   ]
  },
  {
   "cell_type": "code",
   "execution_count": 4,
   "metadata": {},
   "outputs": [
    {
     "name": "stdout",
     "output_type": "stream",
     "text": [
      "Descriptor type: TPC\r\n"
     ]
    }
   ],
   "source": [
    "!python ../../iFeature.py --file ../New-Enzyme-Fasta.fa --type TPC --out ../FeatureFiles/TPC.tsv"
   ]
  },
  {
   "cell_type": "markdown",
   "metadata": {},
   "source": [
    "# DPC"
   ]
  },
  {
   "cell_type": "code",
   "execution_count": 5,
   "metadata": {},
   "outputs": [
    {
     "name": "stdout",
     "output_type": "stream",
     "text": [
      "Descriptor type: DPC\r\n"
     ]
    }
   ],
   "source": [
    "!python ../../iFeature.py --file ../New-Enzyme-Fasta.fa --type DPC --out ../FeatureFiles/DPC.tsv"
   ]
  },
  {
   "cell_type": "markdown",
   "metadata": {},
   "source": [
    "# DDE"
   ]
  },
  {
   "cell_type": "code",
   "execution_count": 6,
   "metadata": {},
   "outputs": [
    {
     "name": "stdout",
     "output_type": "stream",
     "text": [
      "Descriptor type: DDE\r\n"
     ]
    }
   ],
   "source": [
    "!python ../../iFeature.py --file ../New-Enzyme-Fasta.fa --type DDE --out ../FeatureFiles/DDE.tsv"
   ]
  },
  {
   "cell_type": "markdown",
   "metadata": {},
   "source": [
    "# GAAC"
   ]
  },
  {
   "cell_type": "code",
   "execution_count": 7,
   "metadata": {},
   "outputs": [
    {
     "name": "stdout",
     "output_type": "stream",
     "text": [
      "Descriptor type: GAAC\r\n"
     ]
    }
   ],
   "source": [
    "!python ../../iFeature.py --file ../New-Enzyme-Fasta.fa --type GAAC --out ../FeatureFiles/GAAC.tsv"
   ]
  },
  {
   "cell_type": "markdown",
   "metadata": {},
   "source": [
    "# CKSAAGP"
   ]
  },
  {
   "cell_type": "code",
   "execution_count": 8,
   "metadata": {},
   "outputs": [
    {
     "name": "stdout",
     "output_type": "stream",
     "text": [
      "Descriptor type: CKSAAGP\r\n"
     ]
    }
   ],
   "source": [
    "!python ../../iFeature.py --file ../New-Enzyme-Fasta.fa --type CKSAAGP --out ../FeatureFiles/CKSAAGP.tsv"
   ]
  },
  {
   "cell_type": "markdown",
   "metadata": {},
   "source": [
    "# GTPC"
   ]
  },
  {
   "cell_type": "code",
   "execution_count": 9,
   "metadata": {},
   "outputs": [
    {
     "name": "stdout",
     "output_type": "stream",
     "text": [
      "Descriptor type: GTPC\r\n"
     ]
    }
   ],
   "source": [
    "!python ../../iFeature.py --file ../New-Enzyme-Fasta.fa --type GTPC --out ../FeatureFiles/GTPC.tsv"
   ]
  },
  {
   "cell_type": "markdown",
   "metadata": {},
   "source": [
    "# GDPC"
   ]
  },
  {
   "cell_type": "code",
   "execution_count": 10,
   "metadata": {},
   "outputs": [
    {
     "name": "stdout",
     "output_type": "stream",
     "text": [
      "Descriptor type: GDPC\r\n"
     ]
    }
   ],
   "source": [
    "!python ../../iFeature.py --file ../New-Enzyme-Fasta.fa --type GDPC --out ../FeatureFiles/GDPC.tsv"
   ]
  },
  {
   "cell_type": "markdown",
   "metadata": {},
   "source": [
    "# Moran"
   ]
  },
  {
   "cell_type": "code",
   "execution_count": 11,
   "metadata": {},
   "outputs": [
    {
     "name": "stdout",
     "output_type": "stream",
     "text": [
      "Descriptor type: Moran\r\n"
     ]
    }
   ],
   "source": [
    "!python ../../iFeature.py --file ../New-Enzyme-Fasta.fa --type Moran --out ../FeatureFiles/Moran.tsv"
   ]
  },
  {
   "cell_type": "markdown",
   "metadata": {},
   "source": [
    "# Geary"
   ]
  },
  {
   "cell_type": "code",
   "execution_count": 12,
   "metadata": {},
   "outputs": [
    {
     "name": "stdout",
     "output_type": "stream",
     "text": [
      "Descriptor type: Geary\r\n"
     ]
    }
   ],
   "source": [
    "!python ../../iFeature.py --file ../New-Enzyme-Fasta.fa --type Geary --out ../FeatureFiles/Geary.tsv"
   ]
  },
  {
   "cell_type": "markdown",
   "metadata": {},
   "source": [
    "# NMBroto"
   ]
  },
  {
   "cell_type": "code",
   "execution_count": 13,
   "metadata": {},
   "outputs": [
    {
     "name": "stdout",
     "output_type": "stream",
     "text": [
      "Descriptor type: NMBroto\r\n"
     ]
    }
   ],
   "source": [
    "!python ../../iFeature.py --file ../New-Enzyme-Fasta.fa --type NMBroto --out ../FeatureFiles/NMBroto.tsv"
   ]
  },
  {
   "cell_type": "markdown",
   "metadata": {},
   "source": [
    "# CTDC"
   ]
  },
  {
   "cell_type": "code",
   "execution_count": 14,
   "metadata": {},
   "outputs": [
    {
     "name": "stdout",
     "output_type": "stream",
     "text": [
      "Descriptor type: CTDC\r\n"
     ]
    }
   ],
   "source": [
    "!python ../../iFeature.py --file ../New-Enzyme-Fasta.fa --type CTDC --out ../FeatureFiles/CTDC.tsv"
   ]
  },
  {
   "cell_type": "markdown",
   "metadata": {},
   "source": [
    "# CTDT"
   ]
  },
  {
   "cell_type": "code",
   "execution_count": 15,
   "metadata": {},
   "outputs": [
    {
     "name": "stdout",
     "output_type": "stream",
     "text": [
      "Descriptor type: CTDT\r\n"
     ]
    }
   ],
   "source": [
    "!python ../../iFeature.py --file ../New-Enzyme-Fasta.fa --type CTDT --out ../FeatureFiles/CTDT.tsv"
   ]
  },
  {
   "cell_type": "markdown",
   "metadata": {},
   "source": [
    "# CTDD"
   ]
  },
  {
   "cell_type": "code",
   "execution_count": 16,
   "metadata": {},
   "outputs": [
    {
     "name": "stdout",
     "output_type": "stream",
     "text": [
      "Descriptor type: CTDD\r\n"
     ]
    }
   ],
   "source": [
    "!python ../../iFeature.py --file ../New-Enzyme-Fasta.fa --type CTDD --out ../FeatureFiles/CTDD.tsv"
   ]
  },
  {
   "cell_type": "markdown",
   "metadata": {},
   "source": [
    "# CTriad"
   ]
  },
  {
   "cell_type": "code",
   "execution_count": 17,
   "metadata": {},
   "outputs": [
    {
     "name": "stdout",
     "output_type": "stream",
     "text": [
      "Descriptor type: CTriad\r\n"
     ]
    }
   ],
   "source": [
    "!python ../../iFeature.py --file ../New-Enzyme-Fasta.fa --type CTriad --out ../FeatureFiles/CTriad.tsv"
   ]
  },
  {
   "cell_type": "markdown",
   "metadata": {},
   "source": [
    "# KSCTriad"
   ]
  },
  {
   "cell_type": "code",
   "execution_count": 18,
   "metadata": {},
   "outputs": [
    {
     "name": "stdout",
     "output_type": "stream",
     "text": [
      "Descriptor type: KSCTriad\r\n"
     ]
    }
   ],
   "source": [
    "!python ../../iFeature.py --file ../New-Enzyme-Fasta.fa --type KSCTriad --out ../FeatureFiles/KSCTriad.tsv"
   ]
  },
  {
   "cell_type": "markdown",
   "metadata": {},
   "source": [
    "# SOCNumber"
   ]
  },
  {
   "cell_type": "code",
   "execution_count": 19,
   "metadata": {},
   "outputs": [
    {
     "name": "stdout",
     "output_type": "stream",
     "text": [
      "Descriptor type: SOCNumber\r\n"
     ]
    }
   ],
   "source": [
    "!python ../../iFeature.py --file ../New-Enzyme-Fasta.fa --type SOCNumber --out ../FeatureFiles/SOCNumber.tsv"
   ]
  },
  {
   "cell_type": "markdown",
   "metadata": {},
   "source": [
    "# QSOrder"
   ]
  },
  {
   "cell_type": "code",
   "execution_count": 20,
   "metadata": {},
   "outputs": [
    {
     "name": "stdout",
     "output_type": "stream",
     "text": [
      "Descriptor type: QSOrder\r\n"
     ]
    }
   ],
   "source": [
    "!python ../../iFeature.py --file ../New-Enzyme-Fasta.fa --type QSOrder --out ../FeatureFiles/QSOrder.tsv"
   ]
  },
  {
   "cell_type": "markdown",
   "metadata": {},
   "source": [
    "# PAAC"
   ]
  },
  {
   "cell_type": "code",
   "execution_count": 21,
   "metadata": {},
   "outputs": [
    {
     "name": "stdout",
     "output_type": "stream",
     "text": [
      "Descriptor type: PAAC\r\n"
     ]
    }
   ],
   "source": [
    "!python ../../iFeature.py --file ../New-Enzyme-Fasta.fa --type PAAC --out ../FeatureFiles/PAAC.tsv"
   ]
  },
  {
   "cell_type": "markdown",
   "metadata": {},
   "source": [
    "# APAAC"
   ]
  },
  {
   "cell_type": "code",
   "execution_count": 22,
   "metadata": {},
   "outputs": [
    {
     "name": "stdout",
     "output_type": "stream",
     "text": [
      "Descriptor type: APAAC\r\n"
     ]
    }
   ],
   "source": [
    "!python ../../iFeature.py --file ../New-Enzyme-Fasta.fa --type APAAC --out ../FeatureFiles/APAAC.tsv"
   ]
  },
  {
   "cell_type": "code",
   "execution_count": null,
   "metadata": {},
   "outputs": [],
   "source": []
  }
 ],
 "metadata": {
  "kernelspec": {
   "display_name": "Python 3",
   "language": "python",
   "name": "python3"
  },
  "language_info": {
   "codemirror_mode": {
    "name": "ipython",
    "version": 3
   },
   "file_extension": ".py",
   "mimetype": "text/x-python",
   "name": "python",
   "nbconvert_exporter": "python",
   "pygments_lexer": "ipython3",
   "version": "3.6.7"
  }
 },
 "nbformat": 4,
 "nbformat_minor": 4
}
