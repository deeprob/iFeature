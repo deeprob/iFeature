{
 "cells": [
  {
   "cell_type": "markdown",
   "metadata": {},
   "source": [
    "!module load gcc/5.3.1\n",
    "!module load ncbi-blast/2.6.0\n",
    "!python ../scripts/generatePSSMProfile.py --file New-Enzyme-Fasta.fa"
   ]
  },
  {
   "cell_type": "code",
   "execution_count": 2,
   "metadata": {},
   "outputs": [
    {
     "name": "stdout",
     "output_type": "stream",
     "text": [
      "A._hypogaea_l._AhFatA.txt    PSSMprofilegeneration.ipynb  testFeatFiles.ipynb\r\n",
      "FeatureFilesGenerator.ipynb  encoding.tsv\r\n",
      "MakeProperFastaFile.ipynb    out\r\n"
     ]
    }
   ],
   "source": [
    "!ls"
   ]
  },
  {
   "cell_type": "code",
   "execution_count": 3,
   "metadata": {},
   "outputs": [
    {
     "name": "stdout",
     "output_type": "stream",
     "text": [
      "Descriptor type: PSSM\r\n",
      "Error: for \"PSSM\" encoding, the input fasta sequences should be with equal length. \r\n",
      "\r\n",
      "\r\n"
     ]
    }
   ],
   "source": [
    "!python ../../iFeature.py --file ../New-Enzyme-Fasta.fa --type PSSM --path out/"
   ]
  },
  {
   "cell_type": "code",
   "execution_count": null,
   "metadata": {},
   "outputs": [],
   "source": []
  }
 ],
 "metadata": {
  "kernelspec": {
   "display_name": "Python 3",
   "language": "python",
   "name": "python3"
  },
  "language_info": {
   "codemirror_mode": {
    "name": "ipython",
    "version": 3
   },
   "file_extension": ".py",
   "mimetype": "text/x-python",
   "name": "python",
   "nbconvert_exporter": "python",
   "pygments_lexer": "ipython3",
   "version": "3.6.7"
  }
 },
 "nbformat": 4,
 "nbformat_minor": 4
}
